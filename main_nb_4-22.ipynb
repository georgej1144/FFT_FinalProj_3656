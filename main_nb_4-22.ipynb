{
 "cells": [
  {
   "cell_type": "code",
   "execution_count": 6,
   "id": "cd2a8702-9ac9-45d1-9abd-60fb5a13fe94",
   "metadata": {
    "tags": []
   },
   "outputs": [
    {
     "data": {
      "text/plain": [
       "(array([ 0,  0,  0, ..., 11, 12, 16], dtype=int16),\n",
       " 222336,\n",
       " array([0, 0, 0, ..., 0, 0, 0], dtype=int16),\n",
       " 22939830)"
      ]
     },
     "execution_count": 6,
     "metadata": {},
     "output_type": "execute_result"
    }
   ],
   "source": [
    "from pydub import AudioSegment\n",
    "import numpy as np\n",
    "\n",
    "audio = AudioSegment.from_mp3(\"samples/440Hz_44100Hz_16bit_05sec.mp3\")\n",
    "samples = np.array(audio.get_array_of_samples())\n",
    "audio = AudioSegment.from_mp3(\"samples/Bas - Tribe with J.Cole.mp3\")\n",
    "samples1 = np.array(audio.get_array_of_samples())\n",
    "samples,len(samples),samples1,len(samples1)"
   ]
  }
 ],
 "metadata": {
  "kernelspec": {
   "display_name": "Python 3 (ipykernel)",
   "language": "python",
   "name": "python3"
  },
  "language_info": {
   "codemirror_mode": {
    "name": "ipython",
    "version": 3
   },
   "file_extension": ".py",
   "mimetype": "text/x-python",
   "name": "python",
   "nbconvert_exporter": "python",
   "pygments_lexer": "ipython3",
   "version": "3.10.8"
  }
 },
 "nbformat": 4,
 "nbformat_minor": 5
}
